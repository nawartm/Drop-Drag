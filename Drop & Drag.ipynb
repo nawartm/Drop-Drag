{
 "cells": [
  {
   "cell_type": "markdown",
   "id": "bd5336fc-3ed2-403f-a720-c167114556a0",
   "metadata": {
    "tags": []
   },
   "source": [
    "## Implementation\n",
    "\n",
    "La mise en œuvre du projet comporte plusieurs étapes, notamment la configuration des bibliothèques nécessaires, l'initialisation de la solution MediaPipe hand, la définition des détails des formes et des boutons et l'implémentation de la boucle principale qui traite chaque image provenant de la webcam. Voici une décomposition détaillée du code :\n",
    "\n",
    "### Importation des bibliothèques nécessaires"
   ]
  },
  {
   "cell_type": "code",
   "execution_count": null,
   "id": "99613995-3754-4388-9744-69f860d30d5c",
   "metadata": {
    "tags": []
   },
   "outputs": [],
   "source": [
    "import cv2\n",
    "import mediapipe as mp\n",
    "import numpy as np\n",
    "import time"
   ]
  },
  {
   "cell_type": "markdown",
   "id": "3dae0887-35a3-4cd7-a76f-2ae51e6ab2cf",
   "metadata": {},
   "source": [
    "Le projet utilise quatre bibliothèques : OpenCV (cv2) pour le traitement d'images et la capture de vidéos à partir de la webcam, MediaPipe (mp) pour la détection des points de repère de la main, NumPy (np) pour les opérations numériques, et time pour les opérations de chronométrage.\n",
    "\n",
    "### Initialisation de la solution MediaPipe Hand"
   ]
  },
  {
   "cell_type": "code",
   "execution_count": null,
   "id": "ece23dd9-378e-40eb-b4d6-51ec209b63d6",
   "metadata": {
    "tags": []
   },
   "outputs": [],
   "source": [
    "mp_hands = mp.solutions.hands\n",
    "hands = mp_hands.Hands(model_complexity=0, min_detection_confidence=0.5, min_tracking_confidence=0.5)"
   ]
  },
  {
   "cell_type": "markdown",
   "id": "198dcd09-c093-4267-8bbb-2246fedc0ebf",
   "metadata": {},
   "source": [
    "La solution main de MediaPipe est initialisée avec une complexité de modèle de 0 (le modèle le plus rapide mais le moins précis), et une confiance minimale de détection et de suivi de 0,5.\n",
    "\n",
    "### Définition de la forme et des détails du bouton"
   ]
  },
  {
   "cell_type": "code",
   "execution_count": null,
   "id": "3b7d08b7-446e-460c-b18b-04b4e36a71c4",
   "metadata": {
    "tags": []
   },
   "outputs": [],
   "source": [
    "# rectangle and circle details\n",
    "rect_width, rect_height = 100, 100\n",
    "coord_rectangle_1 = [(300 - rect_width // 2, 300 - rect_height // 2), (300 + rect_width // 2, 300 + rect_height // 2)]\n",
    "coord_rectangle_2 = [(400 - rect_width // 2, 400 - rect_height // 2), (400 + rect_width // 2, 400 + rect_height // 2)]\n",
    "coord_circle = [(200, 200), 50]  # center and radius of the circle"
   ]
  },
  {
   "cell_type": "markdown",
   "id": "c17c9773-1caf-4c4d-903a-1b764b76704d",
   "metadata": {},
   "source": [
    "Les détails des formes (rectangles et cercles) qui seront dessinées à l'écran sont définis. Les coordonnées des rectangles et du cercle sont définies, ainsi que la largeur et la hauteur des rectangles et le rayon du cercle.\n"
   ]
  },
  {
   "cell_type": "code",
   "execution_count": null,
   "id": "2f73eb4f-7ac6-4c1a-ad45-6c1ea2863c28",
   "metadata": {
    "tags": []
   },
   "outputs": [],
   "source": [
    "# Add Rect and Add Circle button details\n",
    "button_width, button_height = 50, 50\n",
    "coord_add_rect_button = [(50 - button_width // 2, 50 - button_height // 2), (50 + button_width // 2, 50 + button_height // 2)]\n",
    "coord_add_circle_button = [(100 + button_width // 2, 50 - button_height // 2), (150 + button_width // 2, 50 + button_height // 2)]\n",
    "coord_remove_button = [(450 - button_width // 2, 450 - button_height // 2), (450 + button_width // 2, 450 + button_height // 2)]\n",
    "coord_exit_button = [(550 - button_width // 2, 50 - button_height // 2), (600 + button_width // 2, 50 + button_height // 2)]"
   ]
  },
  {
   "cell_type": "markdown",
   "id": "b18f78e9-f7fc-401a-b45e-3a8963ae47e8",
   "metadata": {},
   "source": [
    "Les détails des boutons (Ajouter un rectangle, Ajouter un cercle, Supprimer et Quitter) qui seront dessinés à l'écran sont définis. Les coordonnées des boutons sont définies, ainsi que leur largeur et leur hauteur.\n",
    "\n",
    "### Boucle principale"
   ]
  },
  {
   "cell_type": "code",
   "execution_count": null,
   "id": "9be13d80-b443-4e00-80be-f609618c48bd",
   "metadata": {
    "tags": []
   },
   "outputs": [],
   "source": [
    "try:\n",
    "    while cap.isOpened():\n",
    "        success, image = cap.read()\n",
    "        if not success:\n",
    "            print(\"Ignoring empty camera frame.\")\n",
    "            continue"
   ]
  },
  {
   "cell_type": "markdown",
   "id": "0a5dad20-29a5-4f4a-a534-2f688da06fb7",
   "metadata": {},
   "source": [
    "La boucle principale du programme commence par vérifier si la webcam est ouverte. Si c'est le cas, elle lit une image de la webcam. Si la trame est vide, il saute le reste de la boucle et passe à l'itération suivante."
   ]
  },
  {
   "cell_type": "code",
   "execution_count": null,
   "id": "107f78c9-5366-46b8-9072-81d4767bff13",
   "metadata": {},
   "outputs": [],
   "source": [
    "        # Flip the image horizontally for a later selfie-view display, and convert\n",
    "        # the BGR image to RGB.\n",
    "        image = cv2.cvtColor(cv2.flip(image, 1), cv2.COLOR_BGR2RGB)"
   ]
  },
  {
   "cell_type": "markdown",
   "id": "1b38fec6-8aa2-4acb-b429-bfba475f67ff",
   "metadata": {},
   "source": [
    "L'image est retournée horizontalement pour créer un effet miroir, et elle est convertie de l'espace colorimétrique BGR (utilisé par OpenCV) à l'espace colorimétrique RVB (utilisé par MediaPipe)."
   ]
  },
  {
   "cell_type": "code",
   "execution_count": null,
   "id": "a44a33b4-2ba2-48c4-9870-a463a03108bb",
   "metadata": {},
   "outputs": [],
   "source": [
    "        # process the image to find hand landmarks\n",
    "        image.flags.writeable = False\n",
    "        results = hands.process(image)"
   ]
  },
  {
   "cell_type": "markdown",
   "id": "374d17a9-f36e-4344-9799-aab66e6e0b2d",
   "metadata": {},
   "source": [
    "L'image est traitée par la solution main de MediaPipe pour trouver les points de repère de la main. L'attribut 'flags.writeable' de l'image est fixé à False pour empêcher MediaPipe de modifier l'image."
   ]
  },
  {
   "cell_type": "code",
   "execution_count": null,
   "id": "668c05f0-3d4c-4cb4-9eca-0de4a65cf09a",
   "metadata": {},
   "outputs": [],
   "source": [
    "        # draw the hand landmarks on the image\n",
    "        image.flags.writeable = True\n",
    "        image = cv2.cvtColor(image, cv2.COLOR_RGB2BGR)\n",
    "        if results.multi_hand_landmarks:\n",
    "            for hand_landmarks in results.multi_hand_landmarks:\n",
    "                mp_drawing.draw_landmarks(image, hand_landmarks, mp_hands.HAND_CONNECTIONS)"
   ]
  },
  {
   "cell_type": "markdown",
   "id": "e9148627-f27d-42b3-8da4-07ba8f23ae38",
   "metadata": {},
   "source": [
    "Les points de repère de la main et les connexions entre eux sont dessinés sur l'image. L'attribut \"flags.writeable\" de l'image est remis à True pour permettre les modifications, et l'image est reconvertie dans l'espace colorimétrique BGR pour être affichée avec OpenCV."
   ]
  },
  {
   "cell_type": "code",
   "execution_count": null,
   "id": "856a715a-d686-4bc7-a199-44b6eb8c1610",
   "metadata": {},
   "outputs": [],
   "source": [
    "                # get coordinates of thumb tip and index finger tip\n",
    "                x_thumb = int(hand_landmarks.landmark[mp_hands.HandLandmark.THUMB_TIP].x * image.shape[1])\n",
    "                y_thumb = int(hand_landmarks.landmark[mp_hands.HandLandmark.THUMB_TIP].y * image.shape[0])\n",
    "                x_index = int(hand_landmarks.landmark[mp_hands.HandLandmark.INDEX_FINGER_TIP].x * image.shape[1])\n",
    "                y_index = int(hand_landmarks.landmark[mp_hands.HandLandmark.INDEX_FINGER_TIP].y * image.shape[0])"
   ]
  },
  {
   "cell_type": "markdown",
   "id": "bbe25878-2aca-4431-a5f1-fd6f0ea90ca1",
   "metadata": {},
   "source": [
    "Les coordonnées de l'extrémité du pouce et de l'index sont extraites des repères de la main. Ces coordonnées sont normalisées en fonction de la taille de l'image."
   ]
  },
  {
   "cell_type": "code",
   "execution_count": null,
   "id": "8ede15d8-85e9-4b3e-abbc-8a9d909c2b90",
   "metadata": {},
   "outputs": [],
   "source": [
    "                # calculate distance between thumb tip and index finger tip\n",
    "                distance = np.sqrt((x_thumb - x_index) ** 2 + (y_thumb - y_index) ** 2)"
   ]
  },
  {
   "cell_type": "markdown",
   "id": "17ade22a-6cdd-4cf2-ac33-c59edc9c9826",
   "metadata": {},
   "source": [
    "La distance entre l'extrémité du pouce et l'extrémité de l'index est calculée à l'aide de la formule de la distance euclidienne. Cette distance permet de déterminer si l'utilisateur fait un geste de pincement."
   ]
  },
  {
   "cell_type": "code",
   "execution_count": null,
   "id": "312d6475-6c0d-4c52-b200-fa02cf61c3ed",
   "metadata": {},
   "outputs": [],
   "source": [
    "                # draw and interact with rectangles\n",
    "                for i, rect in enumerate(rectangles):\n",
    "                    if (rect[0][0] < x_index < rect[1][0] and rect[0][1] < y_index < rect[1][1]) and (distance < threshold_distance):\n",
    "                        cv2.rectangle(image, rect[0], rect[1], new_color, 2)\n",
    "                        rect[0], rect[1] = (x_index - rect_width // 2, y_index - rect_height // 2), (x_index + rect_width // 2, y_index + rect_height // 2)\n",
    "                        if coord_remove_button[0][0] < x_index < coord_remove_button[1][0] and coord_remove_button[0][1] < y_index < coord_remove_button[1][1]:\n",
    "                            del rectangles[i]\n",
    "                    else:\n",
    "                        cv2.rectangle(image, rect[0], rect[1], default_color, 2)"
   ]
  },
  {
   "cell_type": "markdown",
   "id": "5eb353a7-9fa4-46d3-9198-2c4597c7c53b",
   "metadata": {},
   "source": [
    "The rectangles are drawn on the image. If the index finger tip is inside a rectangle and the user is making a pinching gesture, the rectangle is moved to the position of the index finger tip. If the index finger tip is also inside the Remove button, the rectangle is removed."
   ]
  },
  {
   "cell_type": "code",
   "execution_count": null,
   "id": "1217a483-eaaa-4302-b32b-cfc593eb0547",
   "metadata": {},
   "outputs": [],
   "source": [
    "                # draw and interact with circles\n",
    "                for i,\n",
    "\n",
    " circle in enumerate(circles):\n",
    "                    if (circle[0][0] - circle[1] < x_index < circle[0][0] + circle[1] and circle[0][1] - circle[1] < y_index < circle[0][1] + circle[1]) and (distance < threshold_distance):\n",
    "                        cv2.circle(image, circle[0], circle[1], new_color, 2)\n",
    "                        circle[0] = x_index, y_index\n",
    "                        if coord_remove_button[0][0] < x_index < coord_remove_button[1][0] and coord_remove_button[0][1] < y_index < coord_remove_button[1][1]:\n",
    "                            del circles[i]\n",
    "                    else:\n",
    "                        cv2.circle(image, circle[0], circle[1], default_color, 2)"
   ]
  },
  {
   "cell_type": "markdown",
   "id": "db45776e-2542-4228-91b2-af4ad990ff62",
   "metadata": {},
   "source": [
    "Les cercles sont dessinés sur l'image. Si le bout de l'index se trouve à l'intérieur d'un cercle et que l'utilisateur fait un geste de pincement, le cercle est déplacé à la position du bout de l'index. Si le bout de l'index se trouve également à l'intérieur du bouton Supprimer, le cercle est supprimé."
   ]
  },
  {
   "cell_type": "code",
   "execution_count": null,
   "id": "b6797bb5-b997-42dc-87b1-79968ff91489",
   "metadata": {},
   "outputs": [],
   "source": [
    "                # draw the \"Add Rect\" button\n",
    "                if coord_add_rect_button[0][0] < x_index < coord_add_rect_button[1][0] and coord_add_rect_button[0][1] < y_index < coord_add_rect_button[1][1]:\n",
    "                    cv2.rectangle(image, coord_add_rect_button[0], coord_add_rect_button[1], new_color, 2)\n",
    "                    cv2.putText(image, \"Add Rect\", (coord_add_rect_button[0][0] - 10, coord_add_rect_button[0][1] - 10), font, font_scale, font_color, line_type)\n",
    "                    if start_time_rect is None:\n",
    "                        start_time_rect = time.time()\n",
    "                    elif time.time() - start_time_rect >= click_duration:\n",
    "                        # add new rectangle\n",
    "                        new_rect = [(400 - rect_width // 2, 400 - rect_height // 2), (400 + rect_width // 2, 400 + rect_height // 2)]\n",
    "                        rectangles.append(new_rect)\n",
    "                        start_time_rect = None\n",
    "                else:\n",
    "                    cv2.rectangle(image, coord_add_rect_button[0], coord_add_rect_button[1], button_color, 2)\n",
    "                    cv2.putText(image, \"Add Rect\", (coord_add_rect_button[0][0] - 10, coord_add_rect_button[0][1] - 10), font, font_scale, font_color, line_type)\n",
    "                    start_time_rect = None"
   ]
  },
  {
   "cell_type": "markdown",
   "id": "653d5e8c-ea5c-4479-bee0-d26a1dea9946",
   "metadata": {},
   "source": [
    "Le bouton Ajouter un rectangle est dessiné sur l'image. Si le bout de l'index se trouve à l'intérieur du bouton, celui-ci change de couleur et si le bout de l'index reste à l'intérieur du bouton pendant un certain temps, un nouveau rectangle est ajouté."
   ]
  },
  {
   "cell_type": "code",
   "execution_count": null,
   "id": "2e2decb8-5c01-4f3b-aa2b-6d7362528d48",
   "metadata": {},
   "outputs": [],
   "source": [
    "                # draw the \"Add Circle\" button\n",
    "                if coord_add_circle_button[0][0] < x_index < coord_add_circle_button[1][0] and coord_add_circle_button[0][1] < y_index < coord_add_circle_button[1][1]:\n",
    "                    cv2.rectangle(image, coord_add_circle_button[0], coord_add_circle_button[1], new_color, 2)\n",
    "                    cv2.putText(image, \"Add Circle\", (coord_add_circle_button[0][0] - 10, coord_add_circle_button[0][1] - 10), font, font_scale, font_color, line_type)\n",
    "                    if start_time_circle is None:\n",
    "                        start_time_circle = time.time()\n",
    "                    elif time.time() - start_time_circle >= click_duration:\n",
    "                        # add new circle\n",
    "                        new_circle = [(200, 200), 50]\n",
    "                        circles.append(new_circle)\n",
    "                        start_time_circle = None\n",
    "                else:\n",
    "                    cv2.rectangle(image, coord_add_circle_button[0], coord_add_circle_button[1], button_color, 2)\n",
    "                    cv2.putText(image, \"Add Circle\", (coord_add_circle_button[0][0] - 10, coord_add_circle_button[0][1] - 10), font, font_scale, font_color, line_type)\n",
    "                    start_time_circle = None"
   ]
  },
  {
   "cell_type": "markdown",
   "id": "c9a86938-4224-40de-8ae8-c8af9389ae29",
   "metadata": {},
   "source": [
    "Le bouton Ajouter un cercle est dessiné sur l'image. Si le bout de l'index se trouve à l'intérieur du bouton, celui-ci change de couleur et si le bout de l'index reste à l'intérieur du bouton pendant un certain temps, un nouveau cercle est ajouté.\n"
   ]
  },
  {
   "cell_type": "code",
   "execution_count": null,
   "id": "9ae1b7bb-6397-4a13-86fa-412628e5ee1c",
   "metadata": {},
   "outputs": [],
   "source": [
    "                # draw the \"Remove\" button\n",
    "                cv2.rectangle(image, coord_remove_button[0], coord_remove_button[1], button_color, 2)\n",
    "                cv2.putText(image, \"Remove\", (coord_remove_button[0][0] - 10, coord_remove_button[0][1] - 10), font, font_scale, font_color, line_type)"
   ]
  },
  {
   "cell_type": "markdown",
   "id": "bff791ce-d389-4b60-bf32-64f4f18b18e0",
   "metadata": {},
   "source": [
    "Le bouton Supprimer est dessiné sur l'image. Si le bout de l'index se trouve à l'intérieur d'une forme et que la forme se trouve à l'intérieur du bouton Supprimer, la forme est supprimée."
   ]
  },
  {
   "cell_type": "code",
   "execution_count": null,
   "id": "fb14c625-372c-43bf-b4f3-8255f4fded92",
   "metadata": {},
   "outputs": [],
   "source": [
    "                # draw the \"Exit\" button\n",
    "                if coord_exit_button[0][0] < x_index < coord_exit_button[1][0] and coord_exit_button[0][1] < y_index < coord_exit_button[1][1]:\n",
    "                    cv2.rectangle(image, coord_exit_button[0], coord_exit_button[1], new_color, 2)\n",
    "                    cv2.putText(image, \"Exit\", (coord_exit_button[0][0] - 10, coord_exit_button[0][1] - 10), font, font_scale, font_color, line_type)\n",
    "                    if start_time_exit is None:\n",
    "                        start_time_exit = time.time()\n",
    "                else:\n",
    "                    cv2.rectangle(image, coord_exit_button[0], coord_exit_button[1], button_color, 2)\n",
    "                    cv2.putText(image, \"Exit\", (coord_exit_button[0][0] - 10, coord_exit_button[0][1] - 10), font, font_scale, font_color, line_type)\n",
    "                    start_time_exit = None"
   ]
  },
  {
   "cell_type": "markdown",
   "id": "44a344f6-cccb-45a5-9ca3-bd247afb9596",
   "metadata": {},
   "source": [
    "Le bouton Quitter est dessiné sur l'image. Si le bout de l'index se trouve à l'intérieur du bouton, celui-ci change de couleur, et si le bout de l'index reste à l'intérieur du bouton pendant un certain temps, le programme se termine."
   ]
  },
  {
   "cell_type": "code",
   "execution_count": null,
   "id": "fe792204-ab74-4563-8058-ea86db9224a3",
   "metadata": {},
   "outputs": [],
   "source": [
    "            # check if the exit button is pressed\n",
    "            if start_time\n",
    "\n",
    "_exit is not None and time.time() - start_time_exit >= click_duration:\n",
    "                break"
   ]
  },
  {
   "cell_type": "markdown",
   "id": "01e57802-64b3-40b6-8c5b-ab1fe8dc9cc8",
   "metadata": {},
   "source": [
    "Le programme vérifie si le bouton Exit est enfoncé. Si c'est le cas, la boucle principale est quittée et le programme se termine.\n"
   ]
  },
  {
   "cell_type": "code",
   "execution_count": null,
   "id": "7d4494f1-e0a4-45cf-865a-07703abd290c",
   "metadata": {},
   "outputs": [],
   "source": [
    "        cv2.imshow('MediaPipe Hands', image)\n",
    "\n",
    "        if cv2.waitKey(1) & 0xFF == ord('q'):\n",
    "            break\n",
    "finally:\n",
    "    cap.release()\n",
    "    cv2.destroyAllWindows()"
   ]
  },
  {
   "cell_type": "markdown",
   "id": "4823f783-14a3-492e-be15-99721f147679",
   "metadata": {},
   "source": [
    "L'image traitée est affichée dans une fenêtre. Si la touche 'q' est pressée, la boucle principale est quittée et le programme se termine. Après la boucle principale, la webcam est libérée et toutes les fenêtres sont détruites."
   ]
  }
 ],
 "metadata": {
  "kernelspec": {
   "display_name": "Python 3 (ipykernel)",
   "language": "python",
   "name": "python3"
  },
  "language_info": {
   "codemirror_mode": {
    "name": "ipython",
    "version": 3
   },
   "file_extension": ".py",
   "mimetype": "text/x-python",
   "name": "python",
   "nbconvert_exporter": "python",
   "pygments_lexer": "ipython3",
   "version": "3.8.0"
  }
 },
 "nbformat": 4,
 "nbformat_minor": 5
}
